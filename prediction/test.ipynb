{
 "cells": [
  {
   "cell_type": "code",
   "execution_count": 1,
   "metadata": {},
   "outputs": [],
   "source": [
    "from skopt import gp_minimize\n",
    "from skopt.space import Real\n",
    "import matplotlib.pyplot as plt\n",
    "import pickle\n",
    "import predict\n",
    "import numpy as np\n",
    "\n",
    "# pre = predict.Predict()\n",
    "\n",
    "\n",
    "# with open(\"tmp/OD.pickle\", 'rb') as f:\n",
    "#     OD_dict: dict = pickle.load(f)\n",
    "# for index, OD in OD_dict.items():\n",
    "#     OD_dict[index][4] = 0.5\n",
    "# pre.run(OD_dict)"
   ]
  },
  {
   "cell_type": "code",
   "execution_count": 5,
   "metadata": {},
   "outputs": [
    {
     "name": "stdout",
     "output_type": "stream",
     "text": [
      "0.1353352832366127\n"
     ]
    }
   ],
   "source": [
    "print(np.exp(-0.1 * 20))"
   ]
  },
  {
   "cell_type": "code",
   "execution_count": 7,
   "metadata": {},
   "outputs": [
    {
     "name": "stdout",
     "output_type": "stream",
     "text": [
      "13250.570401966266\n",
      "6.244454158488345\n"
     ]
    }
   ],
   "source": [
    "import pandas as pd\n",
    "df = pd.read_csv('result/predict_result.csv')\n",
    "print(df['ride_distance'].mean())\n",
    "print(df['pickup_time'].mean())"
   ]
  }
 ],
 "metadata": {
  "kernelspec": {
   "display_name": "base",
   "language": "python",
   "name": "python3"
  },
  "language_info": {
   "codemirror_mode": {
    "name": "ipython",
    "version": 3
   },
   "file_extension": ".py",
   "mimetype": "text/x-python",
   "name": "python",
   "nbconvert_exporter": "python",
   "pygments_lexer": "ipython3",
   "version": "3.11.4"
  }
 },
 "nbformat": 4,
 "nbformat_minor": 2
}
